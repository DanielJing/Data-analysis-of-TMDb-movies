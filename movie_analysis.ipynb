{
 "cells": [
  {
   "cell_type": "markdown",
   "metadata": {
    "colab_type": "text",
    "id": "QuWao684rCyY"
   },
   "source": [
    "# TMDb Movies Data Analysis\n",
    "## By Daniel Jing"
   ]
  },
  {
   "cell_type": "markdown",
   "metadata": {
    "colab_type": "text",
    "id": "ocB9FphKrCyc"
   },
   "source": [
    "### This dataset contains information about 10,000 movies collected from The Movie Database (TMDb). The aim of this analysis is to find out how revenue is related to some numeric varibles such as budget, popularity and runtime, and how vote_count relates to the profitability, namely the revenue.\n",
    "### The dataset is collected, reorganized and offered by Kaggle.  \n",
    "### Sourcing: https://www.kaggle.com/tmdb/tmdb-movie-metadata"
   ]
  },
  {
   "cell_type": "markdown",
   "metadata": {
    "colab_type": "text",
    "id": "Buy68_WSrCye"
   },
   "source": [
    "#### Importing libraries and Reading the file"
   ]
  },
  {
   "cell_type": "code",
   "execution_count": 1,
   "metadata": {
    "colab": {},
    "colab_type": "code",
    "id": "0yZyQFH3rCyf"
   },
   "outputs": [],
   "source": [
    "import numpy as np\n",
    "import pandas as pd\n",
    "import statsmodels.api as sm\n",
    "import matplotlib.pyplot as plt\n",
    "import seaborn as sns\n",
    "%matplotlib inline"
   ]
  },
  {
   "cell_type": "code",
   "execution_count": 2,
   "metadata": {
    "colab": {
     "base_uri": "https://localhost:8080/",
     "height": 91,
     "resources": {
      "http://localhost:8080/nbextensions/google.colab/files.js": {
       "data": "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",
       "headers": [
        [
         "content-type",
         "application/javascript"
        ]
       ],
       "ok": true,
       "status": 200,
       "status_text": ""
      }
     }
    },
    "colab_type": "code",
    "id": "vz-jH8T_Uk2c",
    "outputId": "e1dc78d3-878b-42f8-e61a-0fee7be01e9d"
   },
   "outputs": [
    {
     "data": {
      "text/html": [
       "\n",
       "     <input type=\"file\" id=\"files-51f1272a-cd48-4599-b8a0-f7caa5f6b167\" name=\"files[]\" multiple disabled />\n",
       "     <output id=\"result-51f1272a-cd48-4599-b8a0-f7caa5f6b167\">\n",
       "      Upload widget is only available when the cell has been executed in the\n",
       "      current browser session. Please rerun this cell to enable.\n",
       "      </output>\n",
       "      <script src=\"/nbextensions/google.colab/files.js\"></script> "
      ],
      "text/plain": [
       "<IPython.core.display.HTML object>"
      ]
     },
     "metadata": {
      "tags": []
     },
     "output_type": "display_data"
    },
    {
     "name": "stdout",
     "output_type": "stream",
     "text": [
      "Saving tmdb-movies.csv to tmdb-movies.csv\n",
      "User uploaded file \"tmdb-movies.csv\" with length 6883750 bytes\n"
     ]
    }
   ],
   "source": [
    "from google.colab import files\n",
    "\n",
    "uploaded = files.upload()\n",
    "\n",
    "for fn in uploaded.keys():\n",
    "  print('User uploaded file \"{name}\" with length {length} bytes'.format(\n",
    "      name=fn, length=len(uploaded[fn])))"
   ]
  },
  {
   "cell_type": "code",
   "execution_count": 2,
   "metadata": {
    "colab": {
     "base_uri": "https://localhost:8080/",
     "height": 615
    },
    "colab_type": "code",
    "id": "PUfDiPSwrCyl",
    "outputId": "a5d7dd82-9b99-49c2-bcff-78d6c57db949",
    "scrolled": true
   },
   "outputs": [
    {
     "data": {
      "text/html": [
       "<div>\n",
       "<style scoped>\n",
       "    .dataframe tbody tr th:only-of-type {\n",
       "        vertical-align: middle;\n",
       "    }\n",
       "\n",
       "    .dataframe tbody tr th {\n",
       "        vertical-align: top;\n",
       "    }\n",
       "\n",
       "    .dataframe thead th {\n",
       "        text-align: right;\n",
       "    }\n",
       "</style>\n",
       "<table border=\"1\" class=\"dataframe\">\n",
       "  <thead>\n",
       "    <tr style=\"text-align: right;\">\n",
       "      <th></th>\n",
       "      <th>id</th>\n",
       "      <th>imdb_id</th>\n",
       "      <th>popularity</th>\n",
       "      <th>budget</th>\n",
       "      <th>revenue</th>\n",
       "      <th>original_title</th>\n",
       "      <th>cast</th>\n",
       "      <th>homepage</th>\n",
       "      <th>director</th>\n",
       "      <th>tagline</th>\n",
       "      <th>...</th>\n",
       "      <th>overview</th>\n",
       "      <th>runtime</th>\n",
       "      <th>genres</th>\n",
       "      <th>production_companies</th>\n",
       "      <th>release_date</th>\n",
       "      <th>vote_count</th>\n",
       "      <th>vote_average</th>\n",
       "      <th>release_year</th>\n",
       "      <th>budget_adj</th>\n",
       "      <th>revenue_adj</th>\n",
       "    </tr>\n",
       "  </thead>\n",
       "  <tbody>\n",
       "    <tr>\n",
       "      <th>0</th>\n",
       "      <td>135397</td>\n",
       "      <td>tt0369610</td>\n",
       "      <td>32.99</td>\n",
       "      <td>150000000</td>\n",
       "      <td>1513528810</td>\n",
       "      <td>Jurassic World</td>\n",
       "      <td>Chris Pratt|Bryce Dallas Howard|Irrfan Khan|Vi...</td>\n",
       "      <td>http://www.jurassicworld.com/</td>\n",
       "      <td>Colin Trevorrow</td>\n",
       "      <td>The park is open.</td>\n",
       "      <td>...</td>\n",
       "      <td>Twenty-two years after the events of Jurassic ...</td>\n",
       "      <td>124</td>\n",
       "      <td>Action|Adventure|Science Fiction|Thriller</td>\n",
       "      <td>Universal Studios|Amblin Entertainment|Legenda...</td>\n",
       "      <td>6/9/15</td>\n",
       "      <td>5562</td>\n",
       "      <td>6.50</td>\n",
       "      <td>2015</td>\n",
       "      <td>137,999,939.28</td>\n",
       "      <td>1,392,445,892.52</td>\n",
       "    </tr>\n",
       "    <tr>\n",
       "      <th>1</th>\n",
       "      <td>76341</td>\n",
       "      <td>tt1392190</td>\n",
       "      <td>28.42</td>\n",
       "      <td>150000000</td>\n",
       "      <td>378436354</td>\n",
       "      <td>Mad Max: Fury Road</td>\n",
       "      <td>Tom Hardy|Charlize Theron|Hugh Keays-Byrne|Nic...</td>\n",
       "      <td>http://www.madmaxmovie.com/</td>\n",
       "      <td>George Miller</td>\n",
       "      <td>What a Lovely Day.</td>\n",
       "      <td>...</td>\n",
       "      <td>An apocalyptic story set in the furthest reach...</td>\n",
       "      <td>120</td>\n",
       "      <td>Action|Adventure|Science Fiction|Thriller</td>\n",
       "      <td>Village Roadshow Pictures|Kennedy Miller Produ...</td>\n",
       "      <td>5/13/15</td>\n",
       "      <td>6185</td>\n",
       "      <td>7.10</td>\n",
       "      <td>2015</td>\n",
       "      <td>137,999,939.28</td>\n",
       "      <td>348,161,292.49</td>\n",
       "    </tr>\n",
       "    <tr>\n",
       "      <th>2</th>\n",
       "      <td>262500</td>\n",
       "      <td>tt2908446</td>\n",
       "      <td>13.11</td>\n",
       "      <td>110000000</td>\n",
       "      <td>295238201</td>\n",
       "      <td>Insurgent</td>\n",
       "      <td>Shailene Woodley|Theo James|Kate Winslet|Ansel...</td>\n",
       "      <td>http://www.thedivergentseries.movie/#insurgent</td>\n",
       "      <td>Robert Schwentke</td>\n",
       "      <td>One Choice Can Destroy You</td>\n",
       "      <td>...</td>\n",
       "      <td>Beatrice Prior must confront her inner demons ...</td>\n",
       "      <td>119</td>\n",
       "      <td>Adventure|Science Fiction|Thriller</td>\n",
       "      <td>Summit Entertainment|Mandeville Films|Red Wago...</td>\n",
       "      <td>3/18/15</td>\n",
       "      <td>2480</td>\n",
       "      <td>6.30</td>\n",
       "      <td>2015</td>\n",
       "      <td>101,199,955.47</td>\n",
       "      <td>271,619,025.41</td>\n",
       "    </tr>\n",
       "    <tr>\n",
       "      <th>3</th>\n",
       "      <td>140607</td>\n",
       "      <td>tt2488496</td>\n",
       "      <td>11.17</td>\n",
       "      <td>200000000</td>\n",
       "      <td>2068178225</td>\n",
       "      <td>Star Wars: The Force Awakens</td>\n",
       "      <td>Harrison Ford|Mark Hamill|Carrie Fisher|Adam D...</td>\n",
       "      <td>http://www.starwars.com/films/star-wars-episod...</td>\n",
       "      <td>J.J. Abrams</td>\n",
       "      <td>Every generation has a story.</td>\n",
       "      <td>...</td>\n",
       "      <td>Thirty years after defeating the Galactic Empi...</td>\n",
       "      <td>136</td>\n",
       "      <td>Action|Adventure|Science Fiction|Fantasy</td>\n",
       "      <td>Lucasfilm|Truenorth Productions|Bad Robot</td>\n",
       "      <td>12/15/15</td>\n",
       "      <td>5292</td>\n",
       "      <td>7.50</td>\n",
       "      <td>2015</td>\n",
       "      <td>183,999,919.04</td>\n",
       "      <td>1,902,723,129.80</td>\n",
       "    </tr>\n",
       "    <tr>\n",
       "      <th>4</th>\n",
       "      <td>168259</td>\n",
       "      <td>tt2820852</td>\n",
       "      <td>9.34</td>\n",
       "      <td>190000000</td>\n",
       "      <td>1506249360</td>\n",
       "      <td>Furious 7</td>\n",
       "      <td>Vin Diesel|Paul Walker|Jason Statham|Michelle ...</td>\n",
       "      <td>http://www.furious7.com/</td>\n",
       "      <td>James Wan</td>\n",
       "      <td>Vengeance Hits Home</td>\n",
       "      <td>...</td>\n",
       "      <td>Deckard Shaw seeks revenge against Dominic Tor...</td>\n",
       "      <td>137</td>\n",
       "      <td>Action|Crime|Thriller</td>\n",
       "      <td>Universal Pictures|Original Film|Media Rights ...</td>\n",
       "      <td>4/1/15</td>\n",
       "      <td>2947</td>\n",
       "      <td>7.30</td>\n",
       "      <td>2015</td>\n",
       "      <td>174,799,923.09</td>\n",
       "      <td>1,385,748,801.47</td>\n",
       "    </tr>\n",
       "  </tbody>\n",
       "</table>\n",
       "<p>5 rows × 21 columns</p>\n",
       "</div>"
      ],
      "text/plain": [
       "       id    imdb_id           popularity     budget     revenue  \\\n",
       "0  135397  tt0369610                32.99  150000000  1513528810   \n",
       "1   76341  tt1392190                28.42  150000000   378436354   \n",
       "2  262500  tt2908446                13.11  110000000   295238201   \n",
       "3  140607  tt2488496                11.17  200000000  2068178225   \n",
       "4  168259  tt2820852                 9.34  190000000  1506249360   \n",
       "\n",
       "                 original_title  \\\n",
       "0                Jurassic World   \n",
       "1            Mad Max: Fury Road   \n",
       "2                     Insurgent   \n",
       "3  Star Wars: The Force Awakens   \n",
       "4                     Furious 7   \n",
       "\n",
       "                                                cast  \\\n",
       "0  Chris Pratt|Bryce Dallas Howard|Irrfan Khan|Vi...   \n",
       "1  Tom Hardy|Charlize Theron|Hugh Keays-Byrne|Nic...   \n",
       "2  Shailene Woodley|Theo James|Kate Winslet|Ansel...   \n",
       "3  Harrison Ford|Mark Hamill|Carrie Fisher|Adam D...   \n",
       "4  Vin Diesel|Paul Walker|Jason Statham|Michelle ...   \n",
       "\n",
       "                                            homepage          director  \\\n",
       "0                      http://www.jurassicworld.com/   Colin Trevorrow   \n",
       "1                        http://www.madmaxmovie.com/     George Miller   \n",
       "2     http://www.thedivergentseries.movie/#insurgent  Robert Schwentke   \n",
       "3  http://www.starwars.com/films/star-wars-episod...       J.J. Abrams   \n",
       "4                           http://www.furious7.com/         James Wan   \n",
       "\n",
       "                         tagline  ...  \\\n",
       "0              The park is open.  ...   \n",
       "1             What a Lovely Day.  ...   \n",
       "2     One Choice Can Destroy You  ...   \n",
       "3  Every generation has a story.  ...   \n",
       "4            Vengeance Hits Home  ...   \n",
       "\n",
       "                                            overview runtime  \\\n",
       "0  Twenty-two years after the events of Jurassic ...     124   \n",
       "1  An apocalyptic story set in the furthest reach...     120   \n",
       "2  Beatrice Prior must confront her inner demons ...     119   \n",
       "3  Thirty years after defeating the Galactic Empi...     136   \n",
       "4  Deckard Shaw seeks revenge against Dominic Tor...     137   \n",
       "\n",
       "                                      genres  \\\n",
       "0  Action|Adventure|Science Fiction|Thriller   \n",
       "1  Action|Adventure|Science Fiction|Thriller   \n",
       "2         Adventure|Science Fiction|Thriller   \n",
       "3   Action|Adventure|Science Fiction|Fantasy   \n",
       "4                      Action|Crime|Thriller   \n",
       "\n",
       "                                production_companies release_date vote_count  \\\n",
       "0  Universal Studios|Amblin Entertainment|Legenda...       6/9/15       5562   \n",
       "1  Village Roadshow Pictures|Kennedy Miller Produ...      5/13/15       6185   \n",
       "2  Summit Entertainment|Mandeville Films|Red Wago...      3/18/15       2480   \n",
       "3          Lucasfilm|Truenorth Productions|Bad Robot     12/15/15       5292   \n",
       "4  Universal Pictures|Original Film|Media Rights ...       4/1/15       2947   \n",
       "\n",
       "          vote_average  release_year           budget_adj          revenue_adj  \n",
       "0                 6.50          2015       137,999,939.28     1,392,445,892.52  \n",
       "1                 7.10          2015       137,999,939.28       348,161,292.49  \n",
       "2                 6.30          2015       101,199,955.47       271,619,025.41  \n",
       "3                 7.50          2015       183,999,919.04     1,902,723,129.80  \n",
       "4                 7.30          2015       174,799,923.09     1,385,748,801.47  \n",
       "\n",
       "[5 rows x 21 columns]"
      ]
     },
     "execution_count": 2,
     "metadata": {},
     "output_type": "execute_result"
    }
   ],
   "source": [
    "df = pd.read_csv('tmdb-movies.csv')\n",
    "pd.options.display.float_format = '{:20,.2f}'.format\n",
    "df.head()"
   ]
  },
  {
   "cell_type": "markdown",
   "metadata": {
    "colab_type": "text",
    "id": "PvTeqD9OrCyr"
   },
   "source": [
    "#### Generating basic statistics of the data set"
   ]
  },
  {
   "cell_type": "code",
   "execution_count": 3,
   "metadata": {
    "colab": {
     "base_uri": "https://localhost:8080/",
     "height": 34
    },
    "colab_type": "code",
    "id": "xfJqJWDKrCys",
    "outputId": "a5ffc298-720c-448b-85d5-36ca04a9ae3d",
    "scrolled": true
   },
   "outputs": [
    {
     "data": {
      "text/plain": [
       "(10866, 21)"
      ]
     },
     "execution_count": 3,
     "metadata": {},
     "output_type": "execute_result"
    }
   ],
   "source": [
    "df.shape"
   ]
  },
  {
   "cell_type": "code",
   "execution_count": 4,
   "metadata": {
    "colab": {
     "base_uri": "https://localhost:8080/",
     "height": 119
    },
    "colab_type": "code",
    "id": "ochGtv0vrCyx",
    "outputId": "a859a579-c91e-4536-86be-02299c1f7069",
    "scrolled": true
   },
   "outputs": [
    {
     "data": {
      "text/plain": [
       "Index(['id', 'imdb_id', 'popularity', 'budget', 'revenue', 'original_title',\n",
       "       'cast', 'homepage', 'director', 'tagline', 'keywords', 'overview',\n",
       "       'runtime', 'genres', 'production_companies', 'release_date',\n",
       "       'vote_count', 'vote_average', 'release_year', 'budget_adj',\n",
       "       'revenue_adj'],\n",
       "      dtype='object')"
      ]
     },
     "execution_count": 4,
     "metadata": {},
     "output_type": "execute_result"
    }
   ],
   "source": [
    "df.columns"
   ]
  },
  {
   "cell_type": "code",
   "execution_count": 5,
   "metadata": {
    "colab": {
     "base_uri": "https://localhost:8080/",
     "height": 297
    },
    "colab_type": "code",
    "id": "cBUsyS3HrCy1",
    "outputId": "9158a8d4-0c41-4297-e012-23d0bbd7996a",
    "scrolled": true
   },
   "outputs": [
    {
     "data": {
      "text/html": [
       "<div>\n",
       "<style scoped>\n",
       "    .dataframe tbody tr th:only-of-type {\n",
       "        vertical-align: middle;\n",
       "    }\n",
       "\n",
       "    .dataframe tbody tr th {\n",
       "        vertical-align: top;\n",
       "    }\n",
       "\n",
       "    .dataframe thead th {\n",
       "        text-align: right;\n",
       "    }\n",
       "</style>\n",
       "<table border=\"1\" class=\"dataframe\">\n",
       "  <thead>\n",
       "    <tr style=\"text-align: right;\">\n",
       "      <th></th>\n",
       "      <th>id</th>\n",
       "      <th>popularity</th>\n",
       "      <th>budget</th>\n",
       "      <th>revenue</th>\n",
       "      <th>runtime</th>\n",
       "      <th>vote_count</th>\n",
       "      <th>vote_average</th>\n",
       "      <th>release_year</th>\n",
       "      <th>budget_adj</th>\n",
       "      <th>revenue_adj</th>\n",
       "    </tr>\n",
       "  </thead>\n",
       "  <tbody>\n",
       "    <tr>\n",
       "      <th>count</th>\n",
       "      <td>10,866.00</td>\n",
       "      <td>10,866.00</td>\n",
       "      <td>10,866.00</td>\n",
       "      <td>10,866.00</td>\n",
       "      <td>10,866.00</td>\n",
       "      <td>10,866.00</td>\n",
       "      <td>10,866.00</td>\n",
       "      <td>10,866.00</td>\n",
       "      <td>10,866.00</td>\n",
       "      <td>10,866.00</td>\n",
       "    </tr>\n",
       "    <tr>\n",
       "      <th>mean</th>\n",
       "      <td>66,064.18</td>\n",
       "      <td>0.65</td>\n",
       "      <td>14,625,701.09</td>\n",
       "      <td>39,823,319.79</td>\n",
       "      <td>102.07</td>\n",
       "      <td>217.39</td>\n",
       "      <td>5.97</td>\n",
       "      <td>2,001.32</td>\n",
       "      <td>17,551,039.82</td>\n",
       "      <td>51,364,363.25</td>\n",
       "    </tr>\n",
       "    <tr>\n",
       "      <th>std</th>\n",
       "      <td>92,130.14</td>\n",
       "      <td>1.00</td>\n",
       "      <td>30,913,213.83</td>\n",
       "      <td>117,003,486.58</td>\n",
       "      <td>31.38</td>\n",
       "      <td>575.62</td>\n",
       "      <td>0.94</td>\n",
       "      <td>12.81</td>\n",
       "      <td>34,306,155.72</td>\n",
       "      <td>144,632,485.04</td>\n",
       "    </tr>\n",
       "    <tr>\n",
       "      <th>min</th>\n",
       "      <td>5.00</td>\n",
       "      <td>0.00</td>\n",
       "      <td>0.00</td>\n",
       "      <td>0.00</td>\n",
       "      <td>0.00</td>\n",
       "      <td>10.00</td>\n",
       "      <td>1.50</td>\n",
       "      <td>1,960.00</td>\n",
       "      <td>0.00</td>\n",
       "      <td>0.00</td>\n",
       "    </tr>\n",
       "    <tr>\n",
       "      <th>25%</th>\n",
       "      <td>10,596.25</td>\n",
       "      <td>0.21</td>\n",
       "      <td>0.00</td>\n",
       "      <td>0.00</td>\n",
       "      <td>90.00</td>\n",
       "      <td>17.00</td>\n",
       "      <td>5.40</td>\n",
       "      <td>1,995.00</td>\n",
       "      <td>0.00</td>\n",
       "      <td>0.00</td>\n",
       "    </tr>\n",
       "    <tr>\n",
       "      <th>50%</th>\n",
       "      <td>20,669.00</td>\n",
       "      <td>0.38</td>\n",
       "      <td>0.00</td>\n",
       "      <td>0.00</td>\n",
       "      <td>99.00</td>\n",
       "      <td>38.00</td>\n",
       "      <td>6.00</td>\n",
       "      <td>2,006.00</td>\n",
       "      <td>0.00</td>\n",
       "      <td>0.00</td>\n",
       "    </tr>\n",
       "    <tr>\n",
       "      <th>75%</th>\n",
       "      <td>75,610.00</td>\n",
       "      <td>0.71</td>\n",
       "      <td>15,000,000.00</td>\n",
       "      <td>24,000,000.00</td>\n",
       "      <td>111.00</td>\n",
       "      <td>145.75</td>\n",
       "      <td>6.60</td>\n",
       "      <td>2,011.00</td>\n",
       "      <td>20,853,251.08</td>\n",
       "      <td>33,697,095.72</td>\n",
       "    </tr>\n",
       "    <tr>\n",
       "      <th>max</th>\n",
       "      <td>417,859.00</td>\n",
       "      <td>32.99</td>\n",
       "      <td>425,000,000.00</td>\n",
       "      <td>2,781,505,847.00</td>\n",
       "      <td>900.00</td>\n",
       "      <td>9,767.00</td>\n",
       "      <td>9.20</td>\n",
       "      <td>2,015.00</td>\n",
       "      <td>425,000,000.00</td>\n",
       "      <td>2,827,123,750.41</td>\n",
       "    </tr>\n",
       "  </tbody>\n",
       "</table>\n",
       "</div>"
      ],
      "text/plain": [
       "                        id           popularity               budget  \\\n",
       "count            10,866.00            10,866.00            10,866.00   \n",
       "mean             66,064.18                 0.65        14,625,701.09   \n",
       "std              92,130.14                 1.00        30,913,213.83   \n",
       "min                   5.00                 0.00                 0.00   \n",
       "25%              10,596.25                 0.21                 0.00   \n",
       "50%              20,669.00                 0.38                 0.00   \n",
       "75%              75,610.00                 0.71        15,000,000.00   \n",
       "max             417,859.00                32.99       425,000,000.00   \n",
       "\n",
       "                   revenue              runtime           vote_count  \\\n",
       "count            10,866.00            10,866.00            10,866.00   \n",
       "mean         39,823,319.79               102.07               217.39   \n",
       "std         117,003,486.58                31.38               575.62   \n",
       "min                   0.00                 0.00                10.00   \n",
       "25%                   0.00                90.00                17.00   \n",
       "50%                   0.00                99.00                38.00   \n",
       "75%          24,000,000.00               111.00               145.75   \n",
       "max       2,781,505,847.00               900.00             9,767.00   \n",
       "\n",
       "              vote_average         release_year           budget_adj  \\\n",
       "count            10,866.00            10,866.00            10,866.00   \n",
       "mean                  5.97             2,001.32        17,551,039.82   \n",
       "std                   0.94                12.81        34,306,155.72   \n",
       "min                   1.50             1,960.00                 0.00   \n",
       "25%                   5.40             1,995.00                 0.00   \n",
       "50%                   6.00             2,006.00                 0.00   \n",
       "75%                   6.60             2,011.00        20,853,251.08   \n",
       "max                   9.20             2,015.00       425,000,000.00   \n",
       "\n",
       "               revenue_adj  \n",
       "count            10,866.00  \n",
       "mean         51,364,363.25  \n",
       "std         144,632,485.04  \n",
       "min                   0.00  \n",
       "25%                   0.00  \n",
       "50%                   0.00  \n",
       "75%          33,697,095.72  \n",
       "max       2,827,123,750.41  "
      ]
     },
     "execution_count": 5,
     "metadata": {},
     "output_type": "execute_result"
    }
   ],
   "source": [
    "df.describe()"
   ]
  },
  {
   "cell_type": "markdown",
   "metadata": {
    "colab_type": "text",
    "id": "GfYVNaI8rCy6"
   },
   "source": [
    "#### Data wrangling: Removing irrelevant columns and null cells\n",
    "Since there are 2 columns for budget and revenue, we will use the adjusted ones for each, namely the ones with '_adj' ending."
   ]
  },
  {
   "cell_type": "code",
   "execution_count": 6,
   "metadata": {
    "colab": {},
    "colab_type": "code",
    "id": "GC21hbIbrCy8"
   },
   "outputs": [],
   "source": [
    "df.drop(['id','budget','revenue','original_title','cast','homepage','director','tagline','overview','production_companies','release_date','release_year'], axis=1, inplace=True)"
   ]
  },
  {
   "cell_type": "code",
   "execution_count": 7,
   "metadata": {
    "colab": {
     "base_uri": "https://localhost:8080/",
     "height": 34
    },
    "colab_type": "code",
    "id": "wE3h4JJXrCy_",
    "outputId": "6b2949dd-ba16-41d6-beba-acb324335743"
   },
   "outputs": [
    {
     "data": {
      "text/plain": [
       "(True, (10866, 9))"
      ]
     },
     "execution_count": 7,
     "metadata": {},
     "output_type": "execute_result"
    }
   ],
   "source": [
    "df.isnull().any().any(), df.shape"
   ]
  },
  {
   "cell_type": "code",
   "execution_count": 8,
   "metadata": {
    "colab": {
     "base_uri": "https://localhost:8080/",
     "height": 255
    },
    "colab_type": "code",
    "id": "MnvAI15ZrCzD",
    "outputId": "fb6d8d4a-df5d-4f31-ff26-b6e4daf35383"
   },
   "outputs": [
    {
     "name": "stdout",
     "output_type": "stream",
     "text": [
      "<class 'pandas.core.frame.DataFrame'>\n",
      "RangeIndex: 10866 entries, 0 to 10865\n",
      "Data columns (total 9 columns):\n",
      " #   Column        Non-Null Count  Dtype  \n",
      "---  ------        --------------  -----  \n",
      " 0   imdb_id       10856 non-null  object \n",
      " 1   popularity    10866 non-null  float64\n",
      " 2   keywords      9373 non-null   object \n",
      " 3   runtime       10866 non-null  int64  \n",
      " 4   genres        10843 non-null  object \n",
      " 5   vote_count    10866 non-null  int64  \n",
      " 6   vote_average  10866 non-null  float64\n",
      " 7   budget_adj    10866 non-null  float64\n",
      " 8   revenue_adj   10866 non-null  float64\n",
      "dtypes: float64(4), int64(2), object(3)\n",
      "memory usage: 764.1+ KB\n"
     ]
    }
   ],
   "source": [
    "df.info()"
   ]
  },
  {
   "cell_type": "code",
   "execution_count": 9,
   "metadata": {
    "colab": {},
    "colab_type": "code",
    "id": "a5gJ_pLFrCzH"
   },
   "outputs": [],
   "source": [
    "rows = df.shape[0]\n",
    "df = df.dropna()"
   ]
  },
  {
   "cell_type": "code",
   "execution_count": 10,
   "metadata": {
    "colab": {
     "base_uri": "https://localhost:8080/",
     "height": 34
    },
    "colab_type": "code",
    "id": "HTzQxDZUrCzL",
    "outputId": "76117df7-6496-4c5f-b672-f2ba76c375af"
   },
   "outputs": [
    {
     "data": {
      "text/plain": [
       "(False, (9364, 9))"
      ]
     },
     "execution_count": 10,
     "metadata": {},
     "output_type": "execute_result"
    }
   ],
   "source": [
    "df.isnull().any().any(), df.shape"
   ]
  },
  {
   "cell_type": "code",
   "execution_count": 11,
   "metadata": {
    "colab": {
     "base_uri": "https://localhost:8080/",
     "height": 34
    },
    "colab_type": "code",
    "id": "tXQTfy08rCzO",
    "outputId": "688a61dc-d2c5-4301-f729-7b8ee702f919"
   },
   "outputs": [
    {
     "data": {
      "text/plain": [
       "1502"
      ]
     },
     "execution_count": 11,
     "metadata": {},
     "output_type": "execute_result"
    }
   ],
   "source": [
    "rows - df.shape[0]"
   ]
  },
  {
   "cell_type": "code",
   "execution_count": 12,
   "metadata": {
    "colab": {
     "base_uri": "https://localhost:8080/",
     "height": 272
    },
    "colab_type": "code",
    "id": "ihO_0J2frCzS",
    "outputId": "585c090d-b073-4f46-a0ee-25926bed1c7c"
   },
   "outputs": [
    {
     "data": {
      "text/html": [
       "<div>\n",
       "<style scoped>\n",
       "    .dataframe tbody tr th:only-of-type {\n",
       "        vertical-align: middle;\n",
       "    }\n",
       "\n",
       "    .dataframe tbody tr th {\n",
       "        vertical-align: top;\n",
       "    }\n",
       "\n",
       "    .dataframe thead th {\n",
       "        text-align: right;\n",
       "    }\n",
       "</style>\n",
       "<table border=\"1\" class=\"dataframe\">\n",
       "  <thead>\n",
       "    <tr style=\"text-align: right;\">\n",
       "      <th></th>\n",
       "      <th>imdb_id</th>\n",
       "      <th>popularity</th>\n",
       "      <th>keywords</th>\n",
       "      <th>runtime</th>\n",
       "      <th>genres</th>\n",
       "      <th>vote_count</th>\n",
       "      <th>vote_average</th>\n",
       "      <th>budget_adj</th>\n",
       "      <th>revenue_adj</th>\n",
       "    </tr>\n",
       "  </thead>\n",
       "  <tbody>\n",
       "    <tr>\n",
       "      <th>0</th>\n",
       "      <td>tt0369610</td>\n",
       "      <td>32.99</td>\n",
       "      <td>monster|dna|tyrannosaurus rex|velociraptor|island</td>\n",
       "      <td>124</td>\n",
       "      <td>Action|Adventure|Science Fiction|Thriller</td>\n",
       "      <td>5562</td>\n",
       "      <td>6.50</td>\n",
       "      <td>137,999,939.28</td>\n",
       "      <td>1,392,445,892.52</td>\n",
       "    </tr>\n",
       "    <tr>\n",
       "      <th>1</th>\n",
       "      <td>tt1392190</td>\n",
       "      <td>28.42</td>\n",
       "      <td>future|chase|post-apocalyptic|dystopia|australia</td>\n",
       "      <td>120</td>\n",
       "      <td>Action|Adventure|Science Fiction|Thriller</td>\n",
       "      <td>6185</td>\n",
       "      <td>7.10</td>\n",
       "      <td>137,999,939.28</td>\n",
       "      <td>348,161,292.49</td>\n",
       "    </tr>\n",
       "    <tr>\n",
       "      <th>2</th>\n",
       "      <td>tt2908446</td>\n",
       "      <td>13.11</td>\n",
       "      <td>based on novel|revolution|dystopia|sequel|dyst...</td>\n",
       "      <td>119</td>\n",
       "      <td>Adventure|Science Fiction|Thriller</td>\n",
       "      <td>2480</td>\n",
       "      <td>6.30</td>\n",
       "      <td>101,199,955.47</td>\n",
       "      <td>271,619,025.41</td>\n",
       "    </tr>\n",
       "    <tr>\n",
       "      <th>3</th>\n",
       "      <td>tt2488496</td>\n",
       "      <td>11.17</td>\n",
       "      <td>android|spaceship|jedi|space opera|3d</td>\n",
       "      <td>136</td>\n",
       "      <td>Action|Adventure|Science Fiction|Fantasy</td>\n",
       "      <td>5292</td>\n",
       "      <td>7.50</td>\n",
       "      <td>183,999,919.04</td>\n",
       "      <td>1,902,723,129.80</td>\n",
       "    </tr>\n",
       "    <tr>\n",
       "      <th>4</th>\n",
       "      <td>tt2820852</td>\n",
       "      <td>9.34</td>\n",
       "      <td>car race|speed|revenge|suspense|car</td>\n",
       "      <td>137</td>\n",
       "      <td>Action|Crime|Thriller</td>\n",
       "      <td>2947</td>\n",
       "      <td>7.30</td>\n",
       "      <td>174,799,923.09</td>\n",
       "      <td>1,385,748,801.47</td>\n",
       "    </tr>\n",
       "  </tbody>\n",
       "</table>\n",
       "</div>"
      ],
      "text/plain": [
       "     imdb_id           popularity  \\\n",
       "0  tt0369610                32.99   \n",
       "1  tt1392190                28.42   \n",
       "2  tt2908446                13.11   \n",
       "3  tt2488496                11.17   \n",
       "4  tt2820852                 9.34   \n",
       "\n",
       "                                            keywords  runtime  \\\n",
       "0  monster|dna|tyrannosaurus rex|velociraptor|island      124   \n",
       "1   future|chase|post-apocalyptic|dystopia|australia      120   \n",
       "2  based on novel|revolution|dystopia|sequel|dyst...      119   \n",
       "3              android|spaceship|jedi|space opera|3d      136   \n",
       "4                car race|speed|revenge|suspense|car      137   \n",
       "\n",
       "                                      genres  vote_count         vote_average  \\\n",
       "0  Action|Adventure|Science Fiction|Thriller        5562                 6.50   \n",
       "1  Action|Adventure|Science Fiction|Thriller        6185                 7.10   \n",
       "2         Adventure|Science Fiction|Thriller        2480                 6.30   \n",
       "3   Action|Adventure|Science Fiction|Fantasy        5292                 7.50   \n",
       "4                      Action|Crime|Thriller        2947                 7.30   \n",
       "\n",
       "            budget_adj          revenue_adj  \n",
       "0       137,999,939.28     1,392,445,892.52  \n",
       "1       137,999,939.28       348,161,292.49  \n",
       "2       101,199,955.47       271,619,025.41  \n",
       "3       183,999,919.04     1,902,723,129.80  \n",
       "4       174,799,923.09     1,385,748,801.47  "
      ]
     },
     "execution_count": 12,
     "metadata": {},
     "output_type": "execute_result"
    }
   ],
   "source": [
    "df.head()"
   ]
  },
  {
   "cell_type": "code",
   "execution_count": 13,
   "metadata": {
    "colab": {
     "base_uri": "https://localhost:8080/",
     "height": 255
    },
    "colab_type": "code",
    "id": "Mz6y5sOerCzV",
    "outputId": "b668701c-cf74-4c7b-c456-d29724f339d9"
   },
   "outputs": [
    {
     "name": "stdout",
     "output_type": "stream",
     "text": [
      "<class 'pandas.core.frame.DataFrame'>\n",
      "Int64Index: 9364 entries, 0 to 10865\n",
      "Data columns (total 9 columns):\n",
      " #   Column        Non-Null Count  Dtype  \n",
      "---  ------        --------------  -----  \n",
      " 0   imdb_id       9364 non-null   object \n",
      " 1   popularity    9364 non-null   float64\n",
      " 2   keywords      9364 non-null   object \n",
      " 3   runtime       9364 non-null   int64  \n",
      " 4   genres        9364 non-null   object \n",
      " 5   vote_count    9364 non-null   int64  \n",
      " 6   vote_average  9364 non-null   float64\n",
      " 7   budget_adj    9364 non-null   float64\n",
      " 8   revenue_adj   9364 non-null   float64\n",
      "dtypes: float64(4), int64(2), object(3)\n",
      "memory usage: 731.6+ KB\n"
     ]
    }
   ],
   "source": [
    "df.info()"
   ]
  },
  {
   "cell_type": "code",
   "execution_count": 14,
   "metadata": {
    "colab": {
     "base_uri": "https://localhost:8080/",
     "height": 297
    },
    "colab_type": "code",
    "id": "ZNBIV3myrCzZ",
    "outputId": "e70e9d07-8566-43b1-ec03-57109bd9b630",
    "scrolled": true
   },
   "outputs": [
    {
     "data": {
      "text/html": [
       "<div>\n",
       "<style scoped>\n",
       "    .dataframe tbody tr th:only-of-type {\n",
       "        vertical-align: middle;\n",
       "    }\n",
       "\n",
       "    .dataframe tbody tr th {\n",
       "        vertical-align: top;\n",
       "    }\n",
       "\n",
       "    .dataframe thead th {\n",
       "        text-align: right;\n",
       "    }\n",
       "</style>\n",
       "<table border=\"1\" class=\"dataframe\">\n",
       "  <thead>\n",
       "    <tr style=\"text-align: right;\">\n",
       "      <th></th>\n",
       "      <th>popularity</th>\n",
       "      <th>runtime</th>\n",
       "      <th>vote_count</th>\n",
       "      <th>vote_average</th>\n",
       "      <th>budget_adj</th>\n",
       "      <th>revenue_adj</th>\n",
       "    </tr>\n",
       "  </thead>\n",
       "  <tbody>\n",
       "    <tr>\n",
       "      <th>count</th>\n",
       "      <td>9,364.00</td>\n",
       "      <td>9,364.00</td>\n",
       "      <td>9,364.00</td>\n",
       "      <td>9,364.00</td>\n",
       "      <td>9,364.00</td>\n",
       "      <td>9,364.00</td>\n",
       "    </tr>\n",
       "    <tr>\n",
       "      <th>mean</th>\n",
       "      <td>0.70</td>\n",
       "      <td>103.17</td>\n",
       "      <td>246.29</td>\n",
       "      <td>6.01</td>\n",
       "      <td>19,801,169.53</td>\n",
       "      <td>58,927,675.74</td>\n",
       "    </tr>\n",
       "    <tr>\n",
       "      <th>std</th>\n",
       "      <td>1.06</td>\n",
       "      <td>28.67</td>\n",
       "      <td>614.34</td>\n",
       "      <td>0.91</td>\n",
       "      <td>36,110,417.70</td>\n",
       "      <td>154,131,542.47</td>\n",
       "    </tr>\n",
       "    <tr>\n",
       "      <th>min</th>\n",
       "      <td>0.00</td>\n",
       "      <td>0.00</td>\n",
       "      <td>10.00</td>\n",
       "      <td>1.50</td>\n",
       "      <td>0.00</td>\n",
       "      <td>0.00</td>\n",
       "    </tr>\n",
       "    <tr>\n",
       "      <th>25%</th>\n",
       "      <td>0.23</td>\n",
       "      <td>91.00</td>\n",
       "      <td>19.00</td>\n",
       "      <td>5.40</td>\n",
       "      <td>0.00</td>\n",
       "      <td>0.00</td>\n",
       "    </tr>\n",
       "    <tr>\n",
       "      <th>50%</th>\n",
       "      <td>0.42</td>\n",
       "      <td>100.00</td>\n",
       "      <td>47.00</td>\n",
       "      <td>6.10</td>\n",
       "      <td>458,756.45</td>\n",
       "      <td>0.00</td>\n",
       "    </tr>\n",
       "    <tr>\n",
       "      <th>75%</th>\n",
       "      <td>0.79</td>\n",
       "      <td>113.00</td>\n",
       "      <td>180.00</td>\n",
       "      <td>6.60</td>\n",
       "      <td>25,412,744.27</td>\n",
       "      <td>45,986,669.16</td>\n",
       "    </tr>\n",
       "    <tr>\n",
       "      <th>max</th>\n",
       "      <td>32.99</td>\n",
       "      <td>900.00</td>\n",
       "      <td>9,767.00</td>\n",
       "      <td>9.20</td>\n",
       "      <td>425,000,000.00</td>\n",
       "      <td>2,827,123,750.41</td>\n",
       "    </tr>\n",
       "  </tbody>\n",
       "</table>\n",
       "</div>"
      ],
      "text/plain": [
       "                popularity              runtime           vote_count  \\\n",
       "count             9,364.00             9,364.00             9,364.00   \n",
       "mean                  0.70               103.17               246.29   \n",
       "std                   1.06                28.67               614.34   \n",
       "min                   0.00                 0.00                10.00   \n",
       "25%                   0.23                91.00                19.00   \n",
       "50%                   0.42               100.00                47.00   \n",
       "75%                   0.79               113.00               180.00   \n",
       "max                  32.99               900.00             9,767.00   \n",
       "\n",
       "              vote_average           budget_adj          revenue_adj  \n",
       "count             9,364.00             9,364.00             9,364.00  \n",
       "mean                  6.01        19,801,169.53        58,927,675.74  \n",
       "std                   0.91        36,110,417.70       154,131,542.47  \n",
       "min                   1.50                 0.00                 0.00  \n",
       "25%                   5.40                 0.00                 0.00  \n",
       "50%                   6.10           458,756.45                 0.00  \n",
       "75%                   6.60        25,412,744.27        45,986,669.16  \n",
       "max                   9.20       425,000,000.00     2,827,123,750.41  "
      ]
     },
     "execution_count": 14,
     "metadata": {},
     "output_type": "execute_result"
    }
   ],
   "source": [
    "df.describe()"
   ]
  },
  {
   "cell_type": "code",
   "execution_count": 15,
   "metadata": {
    "colab": {
     "base_uri": "https://localhost:8080/",
     "height": 419
    },
    "colab_type": "code",
    "id": "xCCsi0lB_suQ",
    "outputId": "96021f70-4a40-4c81-c8ae-ca6c756c981f"
   },
   "outputs": [
    {
     "data": {
      "text/html": [
       "<div>\n",
       "<style scoped>\n",
       "    .dataframe tbody tr th:only-of-type {\n",
       "        vertical-align: middle;\n",
       "    }\n",
       "\n",
       "    .dataframe tbody tr th {\n",
       "        vertical-align: top;\n",
       "    }\n",
       "\n",
       "    .dataframe thead th {\n",
       "        text-align: right;\n",
       "    }\n",
       "</style>\n",
       "<table border=\"1\" class=\"dataframe\">\n",
       "  <thead>\n",
       "    <tr style=\"text-align: right;\">\n",
       "      <th></th>\n",
       "      <th>imdb_id</th>\n",
       "      <th>popularity</th>\n",
       "      <th>keywords</th>\n",
       "      <th>runtime</th>\n",
       "      <th>vote_count</th>\n",
       "      <th>vote_average</th>\n",
       "      <th>budget_adj</th>\n",
       "      <th>revenue_adj</th>\n",
       "      <th>genres</th>\n",
       "    </tr>\n",
       "  </thead>\n",
       "  <tbody>\n",
       "    <tr>\n",
       "      <th>0</th>\n",
       "      <td>tt0369610</td>\n",
       "      <td>32.99</td>\n",
       "      <td>monster|dna|tyrannosaurus rex|velociraptor|island</td>\n",
       "      <td>124</td>\n",
       "      <td>5562</td>\n",
       "      <td>6.50</td>\n",
       "      <td>137,999,939.28</td>\n",
       "      <td>1,392,445,892.52</td>\n",
       "      <td>Action</td>\n",
       "    </tr>\n",
       "    <tr>\n",
       "      <th>0</th>\n",
       "      <td>tt0369610</td>\n",
       "      <td>32.99</td>\n",
       "      <td>monster|dna|tyrannosaurus rex|velociraptor|island</td>\n",
       "      <td>124</td>\n",
       "      <td>5562</td>\n",
       "      <td>6.50</td>\n",
       "      <td>137,999,939.28</td>\n",
       "      <td>1,392,445,892.52</td>\n",
       "      <td>Adventure</td>\n",
       "    </tr>\n",
       "    <tr>\n",
       "      <th>0</th>\n",
       "      <td>tt0369610</td>\n",
       "      <td>32.99</td>\n",
       "      <td>monster|dna|tyrannosaurus rex|velociraptor|island</td>\n",
       "      <td>124</td>\n",
       "      <td>5562</td>\n",
       "      <td>6.50</td>\n",
       "      <td>137,999,939.28</td>\n",
       "      <td>1,392,445,892.52</td>\n",
       "      <td>Science Fiction</td>\n",
       "    </tr>\n",
       "    <tr>\n",
       "      <th>0</th>\n",
       "      <td>tt0369610</td>\n",
       "      <td>32.99</td>\n",
       "      <td>monster|dna|tyrannosaurus rex|velociraptor|island</td>\n",
       "      <td>124</td>\n",
       "      <td>5562</td>\n",
       "      <td>6.50</td>\n",
       "      <td>137,999,939.28</td>\n",
       "      <td>1,392,445,892.52</td>\n",
       "      <td>Thriller</td>\n",
       "    </tr>\n",
       "    <tr>\n",
       "      <th>1</th>\n",
       "      <td>tt1392190</td>\n",
       "      <td>28.42</td>\n",
       "      <td>future|chase|post-apocalyptic|dystopia|australia</td>\n",
       "      <td>120</td>\n",
       "      <td>6185</td>\n",
       "      <td>7.10</td>\n",
       "      <td>137,999,939.28</td>\n",
       "      <td>348,161,292.49</td>\n",
       "      <td>Action</td>\n",
       "    </tr>\n",
       "    <tr>\n",
       "      <th>...</th>\n",
       "      <td>...</td>\n",
       "      <td>...</td>\n",
       "      <td>...</td>\n",
       "      <td>...</td>\n",
       "      <td>...</td>\n",
       "      <td>...</td>\n",
       "      <td>...</td>\n",
       "      <td>...</td>\n",
       "      <td>...</td>\n",
       "    </tr>\n",
       "    <tr>\n",
       "      <th>10863</th>\n",
       "      <td>tt0060161</td>\n",
       "      <td>0.07</td>\n",
       "      <td>car|trolley|stealing car</td>\n",
       "      <td>94</td>\n",
       "      <td>11</td>\n",
       "      <td>6.50</td>\n",
       "      <td>0.00</td>\n",
       "      <td>0.00</td>\n",
       "      <td>Mystery</td>\n",
       "    </tr>\n",
       "    <tr>\n",
       "      <th>10863</th>\n",
       "      <td>tt0060161</td>\n",
       "      <td>0.07</td>\n",
       "      <td>car|trolley|stealing car</td>\n",
       "      <td>94</td>\n",
       "      <td>11</td>\n",
       "      <td>6.50</td>\n",
       "      <td>0.00</td>\n",
       "      <td>0.00</td>\n",
       "      <td>Comedy</td>\n",
       "    </tr>\n",
       "    <tr>\n",
       "      <th>10864</th>\n",
       "      <td>tt0061177</td>\n",
       "      <td>0.06</td>\n",
       "      <td>spoof</td>\n",
       "      <td>80</td>\n",
       "      <td>22</td>\n",
       "      <td>5.40</td>\n",
       "      <td>0.00</td>\n",
       "      <td>0.00</td>\n",
       "      <td>Action</td>\n",
       "    </tr>\n",
       "    <tr>\n",
       "      <th>10864</th>\n",
       "      <td>tt0061177</td>\n",
       "      <td>0.06</td>\n",
       "      <td>spoof</td>\n",
       "      <td>80</td>\n",
       "      <td>22</td>\n",
       "      <td>5.40</td>\n",
       "      <td>0.00</td>\n",
       "      <td>0.00</td>\n",
       "      <td>Comedy</td>\n",
       "    </tr>\n",
       "    <tr>\n",
       "      <th>10865</th>\n",
       "      <td>tt0060666</td>\n",
       "      <td>0.04</td>\n",
       "      <td>fire|gun|drive|sacrifice|flashlight</td>\n",
       "      <td>74</td>\n",
       "      <td>15</td>\n",
       "      <td>1.50</td>\n",
       "      <td>127,642.28</td>\n",
       "      <td>0.00</td>\n",
       "      <td>Horror</td>\n",
       "    </tr>\n",
       "  </tbody>\n",
       "</table>\n",
       "<p>23628 rows × 9 columns</p>\n",
       "</div>"
      ],
      "text/plain": [
       "         imdb_id           popularity  \\\n",
       "0      tt0369610                32.99   \n",
       "0      tt0369610                32.99   \n",
       "0      tt0369610                32.99   \n",
       "0      tt0369610                32.99   \n",
       "1      tt1392190                28.42   \n",
       "...          ...                  ...   \n",
       "10863  tt0060161                 0.07   \n",
       "10863  tt0060161                 0.07   \n",
       "10864  tt0061177                 0.06   \n",
       "10864  tt0061177                 0.06   \n",
       "10865  tt0060666                 0.04   \n",
       "\n",
       "                                                keywords  runtime  vote_count  \\\n",
       "0      monster|dna|tyrannosaurus rex|velociraptor|island      124        5562   \n",
       "0      monster|dna|tyrannosaurus rex|velociraptor|island      124        5562   \n",
       "0      monster|dna|tyrannosaurus rex|velociraptor|island      124        5562   \n",
       "0      monster|dna|tyrannosaurus rex|velociraptor|island      124        5562   \n",
       "1       future|chase|post-apocalyptic|dystopia|australia      120        6185   \n",
       "...                                                  ...      ...         ...   \n",
       "10863                           car|trolley|stealing car       94          11   \n",
       "10863                           car|trolley|stealing car       94          11   \n",
       "10864                                              spoof       80          22   \n",
       "10864                                              spoof       80          22   \n",
       "10865                fire|gun|drive|sacrifice|flashlight       74          15   \n",
       "\n",
       "              vote_average           budget_adj          revenue_adj  \\\n",
       "0                     6.50       137,999,939.28     1,392,445,892.52   \n",
       "0                     6.50       137,999,939.28     1,392,445,892.52   \n",
       "0                     6.50       137,999,939.28     1,392,445,892.52   \n",
       "0                     6.50       137,999,939.28     1,392,445,892.52   \n",
       "1                     7.10       137,999,939.28       348,161,292.49   \n",
       "...                    ...                  ...                  ...   \n",
       "10863                 6.50                 0.00                 0.00   \n",
       "10863                 6.50                 0.00                 0.00   \n",
       "10864                 5.40                 0.00                 0.00   \n",
       "10864                 5.40                 0.00                 0.00   \n",
       "10865                 1.50           127,642.28                 0.00   \n",
       "\n",
       "                genres  \n",
       "0               Action  \n",
       "0            Adventure  \n",
       "0      Science Fiction  \n",
       "0             Thriller  \n",
       "1               Action  \n",
       "...                ...  \n",
       "10863          Mystery  \n",
       "10863           Comedy  \n",
       "10864           Action  \n",
       "10864           Comedy  \n",
       "10865           Horror  \n",
       "\n",
       "[23628 rows x 9 columns]"
      ]
     },
     "execution_count": 15,
     "metadata": {},
     "output_type": "execute_result"
    }
   ],
   "source": [
    "#Seperate genres into strings, and only take the first one\n",
    "df = df.drop('genres', axis=1).join(df['genres'].str.split('|', expand=True).stack().reset_index(level=1, drop=True).rename('genres'))\n",
    "df"
   ]
  },
  {
   "cell_type": "code",
   "execution_count": 16,
   "metadata": {
    "colab": {
     "base_uri": "https://localhost:8080/",
     "height": 419
    },
    "colab_type": "code",
    "id": "bM-xq_QG_sua",
    "outputId": "2e5555d7-b164-4d8b-8a67-aa9da1b86c55",
    "scrolled": true
   },
   "outputs": [
    {
     "data": {
      "text/html": [
       "<div>\n",
       "<style scoped>\n",
       "    .dataframe tbody tr th:only-of-type {\n",
       "        vertical-align: middle;\n",
       "    }\n",
       "\n",
       "    .dataframe tbody tr th {\n",
       "        vertical-align: top;\n",
       "    }\n",
       "\n",
       "    .dataframe thead th {\n",
       "        text-align: right;\n",
       "    }\n",
       "</style>\n",
       "<table border=\"1\" class=\"dataframe\">\n",
       "  <thead>\n",
       "    <tr style=\"text-align: right;\">\n",
       "      <th></th>\n",
       "      <th>revenue_adj</th>\n",
       "      <th>genres</th>\n",
       "      <th>popularity</th>\n",
       "      <th>runtime</th>\n",
       "      <th>vote_count</th>\n",
       "      <th>vote_average</th>\n",
       "      <th>budget_adj</th>\n",
       "    </tr>\n",
       "  </thead>\n",
       "  <tbody>\n",
       "    <tr>\n",
       "      <th>8618</th>\n",
       "      <td>134,360,293.85</td>\n",
       "      <td>Action</td>\n",
       "      <td>0.30</td>\n",
       "      <td>182</td>\n",
       "      <td>28</td>\n",
       "      <td>7.00</td>\n",
       "      <td>80,616,176.31</td>\n",
       "    </tr>\n",
       "    <tr>\n",
       "      <th>8619</th>\n",
       "      <td>134,360,293.85</td>\n",
       "      <td>Adventure</td>\n",
       "      <td>0.30</td>\n",
       "      <td>182</td>\n",
       "      <td>28</td>\n",
       "      <td>7.00</td>\n",
       "      <td>80,616,176.31</td>\n",
       "    </tr>\n",
       "    <tr>\n",
       "      <th>8620</th>\n",
       "      <td>134,360,293.85</td>\n",
       "      <td>Drama</td>\n",
       "      <td>0.30</td>\n",
       "      <td>182</td>\n",
       "      <td>28</td>\n",
       "      <td>7.00</td>\n",
       "      <td>80,616,176.31</td>\n",
       "    </tr>\n",
       "    <tr>\n",
       "      <th>8621</th>\n",
       "      <td>134,360,293.85</td>\n",
       "      <td>Romance</td>\n",
       "      <td>0.30</td>\n",
       "      <td>182</td>\n",
       "      <td>28</td>\n",
       "      <td>7.00</td>\n",
       "      <td>80,616,176.31</td>\n",
       "    </tr>\n",
       "    <tr>\n",
       "      <th>8622</th>\n",
       "      <td>134,360,293.85</td>\n",
       "      <td>War</td>\n",
       "      <td>0.30</td>\n",
       "      <td>182</td>\n",
       "      <td>28</td>\n",
       "      <td>7.00</td>\n",
       "      <td>80,616,176.31</td>\n",
       "    </tr>\n",
       "    <tr>\n",
       "      <th>...</th>\n",
       "      <td>...</td>\n",
       "      <td>...</td>\n",
       "      <td>...</td>\n",
       "      <td>...</td>\n",
       "      <td>...</td>\n",
       "      <td>...</td>\n",
       "      <td>...</td>\n",
       "    </tr>\n",
       "    <tr>\n",
       "      <th>12098</th>\n",
       "      <td>2,789,712,242.28</td>\n",
       "      <td>Science Fiction</td>\n",
       "      <td>12.04</td>\n",
       "      <td>121</td>\n",
       "      <td>4428</td>\n",
       "      <td>7.90</td>\n",
       "      <td>39,575,591.36</td>\n",
       "    </tr>\n",
       "    <tr>\n",
       "      <th>12099</th>\n",
       "      <td>2,827,123,750.41</td>\n",
       "      <td>Action</td>\n",
       "      <td>9.43</td>\n",
       "      <td>162</td>\n",
       "      <td>8458</td>\n",
       "      <td>7.10</td>\n",
       "      <td>240,886,902.89</td>\n",
       "    </tr>\n",
       "    <tr>\n",
       "      <th>12100</th>\n",
       "      <td>2,827,123,750.41</td>\n",
       "      <td>Adventure</td>\n",
       "      <td>9.43</td>\n",
       "      <td>162</td>\n",
       "      <td>8458</td>\n",
       "      <td>7.10</td>\n",
       "      <td>240,886,902.89</td>\n",
       "    </tr>\n",
       "    <tr>\n",
       "      <th>12101</th>\n",
       "      <td>2,827,123,750.41</td>\n",
       "      <td>Fantasy</td>\n",
       "      <td>9.43</td>\n",
       "      <td>162</td>\n",
       "      <td>8458</td>\n",
       "      <td>7.10</td>\n",
       "      <td>240,886,902.89</td>\n",
       "    </tr>\n",
       "    <tr>\n",
       "      <th>12102</th>\n",
       "      <td>2,827,123,750.41</td>\n",
       "      <td>Science Fiction</td>\n",
       "      <td>9.43</td>\n",
       "      <td>162</td>\n",
       "      <td>8458</td>\n",
       "      <td>7.10</td>\n",
       "      <td>240,886,902.89</td>\n",
       "    </tr>\n",
       "  </tbody>\n",
       "</table>\n",
       "<p>3485 rows × 7 columns</p>\n",
       "</div>"
      ],
      "text/plain": [
       "               revenue_adj           genres           popularity  runtime  \\\n",
       "8618        134,360,293.85           Action                 0.30      182   \n",
       "8619        134,360,293.85        Adventure                 0.30      182   \n",
       "8620        134,360,293.85            Drama                 0.30      182   \n",
       "8621        134,360,293.85          Romance                 0.30      182   \n",
       "8622        134,360,293.85              War                 0.30      182   \n",
       "...                    ...              ...                  ...      ...   \n",
       "12098     2,789,712,242.28  Science Fiction                12.04      121   \n",
       "12099     2,827,123,750.41           Action                 9.43      162   \n",
       "12100     2,827,123,750.41        Adventure                 9.43      162   \n",
       "12101     2,827,123,750.41          Fantasy                 9.43      162   \n",
       "12102     2,827,123,750.41  Science Fiction                 9.43      162   \n",
       "\n",
       "       vote_count         vote_average           budget_adj  \n",
       "8618           28                 7.00        80,616,176.31  \n",
       "8619           28                 7.00        80,616,176.31  \n",
       "8620           28                 7.00        80,616,176.31  \n",
       "8621           28                 7.00        80,616,176.31  \n",
       "8622           28                 7.00        80,616,176.31  \n",
       "...           ...                  ...                  ...  \n",
       "12098        4428                 7.90        39,575,591.36  \n",
       "12099        8458                 7.10       240,886,902.89  \n",
       "12100        8458                 7.10       240,886,902.89  \n",
       "12101        8458                 7.10       240,886,902.89  \n",
       "12102        8458                 7.10       240,886,902.89  \n",
       "\n",
       "[3485 rows x 7 columns]"
      ]
     },
     "execution_count": 16,
     "metadata": {},
     "output_type": "execute_result"
    }
   ],
   "source": [
    "# Grouping genres by revenue, showing the ones have revenue greater than the mean\n",
    "genre_revenue = df.groupby(['revenue_adj','genres'], as_index=False).sum()\n",
    "genre_revenue = genre_revenue.query('revenue_adj >= revenue_adj.mean()')\n",
    "genre_revenue"
   ]
  },
  {
   "cell_type": "code",
   "execution_count": 17,
   "metadata": {
    "colab": {
     "base_uri": "https://localhost:8080/",
     "height": 391
    },
    "colab_type": "code",
    "id": "WVXP2kBJ_suh",
    "outputId": "abd0effc-60cd-4abf-cbfc-46c8e85f8106"
   },
   "outputs": [
    {
     "data": {
      "text/plain": [
       "genres\n",
       "Adventure               155,458,774.52\n",
       "Fantasy                 124,172,105.56\n",
       "Animation               106,721,025.69\n",
       "Family                  104,432,143.90\n",
       "Action                  102,131,116.51\n",
       "Science Fiction          97,814,876.14\n",
       "War                      77,355,910.97\n",
       "Thriller                 61,209,504.25\n",
       "Crime                    61,078,897.59\n",
       "Mystery                  55,784,026.17\n",
       "Comedy                   54,480,993.19\n",
       "Romance                  54,047,361.75\n",
       "History                  52,006,823.55\n",
       "Music                    51,992,629.33\n",
       "Western                  48,629,735.89\n",
       "Drama                    45,170,411.86\n",
       "Horror                   27,277,159.59\n",
       "Documentary               2,706,265.41\n",
       "Foreign                   2,058,483.82\n",
       "TV Movie                    442,341.69\n",
       "Name: revenue_adj, dtype: float64"
      ]
     },
     "execution_count": 17,
     "metadata": {},
     "output_type": "execute_result"
    }
   ],
   "source": [
    "# Listing the genres according to revenue\n",
    "pd.options.display.float_format = '{:20,.2f}'.format\n",
    "g_r = df.groupby('genres')['revenue_adj'].mean().sort_values(ascending=False)\n",
    "g_r"
   ]
  },
  {
   "cell_type": "markdown",
   "metadata": {
    "colab_type": "text",
    "id": "XA7Cay1PrCze"
   },
   "source": [
    "#### Data visualization"
   ]
  },
  {
   "cell_type": "code",
   "execution_count": 18,
   "metadata": {
    "colab": {
     "base_uri": "https://localhost:8080/",
     "height": 329
    },
    "colab_type": "code",
    "id": "xPylaXyjrCzf",
    "outputId": "c88c5fff-c238-4638-adf7-f191d426f4bc"
   },
   "outputs": [
    {
     "data": {
      "text/plain": [
       "Text(0, 0.5, 'Number of movies')"
      ]
     },
     "execution_count": 18,
     "metadata": {},
     "output_type": "execute_result"
    },
    {
     "data": {
      "text/plain": [
       "<Figure size 1058.4x595.44 with 0 Axes>"
      ]
     },
     "metadata": {},
     "output_type": "display_data"
    },
    {
     "data": {
      "image/png": "[encoded data removed]",
      "text/plain": [
       "<Figure size 432x288 with 1 Axes>"
      ]
     },
     "metadata": {
      "needs_background": "light"
     },
     "output_type": "display_data"
    }
   ],
   "source": [
    "#Displaying histograms of budget\n",
    "plt.figure(figsize = [14.70,8.27])\n",
    "df.hist('budget_adj')\n",
    "plt.xlabel('Millions')\n",
    "plt.ylabel('Number of movies')"
   ]
  },
  {
   "cell_type": "code",
   "execution_count": 19,
   "metadata": {
    "colab": {
     "base_uri": "https://localhost:8080/",
     "height": 329
    },
    "colab_type": "code",
    "id": "UYB3iAJdrCzj",
    "outputId": "b4a070d9-85bf-42e9-a385-61b995396f34"
   },
   "outputs": [
    {
     "data": {
      "text/plain": [
       "Text(0, 0.5, 'Number of movies')"
      ]
     },
     "execution_count": 19,
     "metadata": {},
     "output_type": "execute_result"
    },
    {
     "data": {
      "text/plain": [
       "<Figure size 1058.4x595.44 with 0 Axes>"
      ]
     },
     "metadata": {},
     "output_type": "display_data"
    },
    {
     "data": {
      "image/png": "[encoded data removed]",
      "text/plain": [
       "<Figure size 432x288 with 1 Axes>"
      ]
     },
     "metadata": {
      "needs_background": "light"
     },
     "output_type": "display_data"
    }
   ],
   "source": [
    "#Displaying histograms of popularity\n",
    "plt.figure(figsize = [14.70,8.27])\n",
    "df.hist('popularity')\n",
    "plt.xlabel('Level of popularity')\n",
    "plt.ylabel('Number of movies')"
   ]
  },
  {
   "cell_type": "code",
   "execution_count": 20,
   "metadata": {
    "colab": {
     "base_uri": "https://localhost:8080/",
     "height": 329
    },
    "colab_type": "code",
    "id": "xf9VS2vlrCzn",
    "outputId": "15218e1c-d860-490f-cfa3-4a105ead6b3c"
   },
   "outputs": [
    {
     "data": {
      "text/plain": [
       "Text(0, 0.5, 'Number of movies')"
      ]
     },
     "execution_count": 20,
     "metadata": {},
     "output_type": "execute_result"
    },
    {
     "data": {
      "text/plain": [
       "<Figure size 1058.4x595.44 with 0 Axes>"
      ]
     },
     "metadata": {},
     "output_type": "display_data"
    },
    {
     "data": {
      "image/png": "[encoded data removed]",
      "text/plain": [
       "<Figure size 432x288 with 1 Axes>"
      ]
     },
     "metadata": {
      "needs_background": "light"
     },
     "output_type": "display_data"
    }
   ],
   "source": [
    "#Displaying histograms of runtime\n",
    "plt.figure(figsize = [14.70,8.27])\n",
    "df.hist('runtime')\n",
    "plt.xlabel('Runtime in minutes')\n",
    "plt.ylabel('Number of movies')"
   ]
  },
  {
   "cell_type": "code",
   "execution_count": 21,
   "metadata": {
    "colab": {},
    "colab_type": "code",
    "id": "_EDMdFGLrCzq"
   },
   "outputs": [],
   "source": [
    "def sort_by_budget(df):\n",
    "    return df.sort_values(by = 'budget_adj', ascending = False)['original_title'].head(1)"
   ]
  },
  {
   "cell_type": "code",
   "execution_count": 22,
   "metadata": {
    "colab": {},
    "colab_type": "code",
    "id": "bFiUs6gSrCzv"
   },
   "outputs": [],
   "source": [
    "def sort_by_revenue(df):\n",
    "    return df.sort_values(by = 'revenue_adj', ascending = False)['original_title'].head(1)"
   ]
  },
  {
   "cell_type": "code",
   "execution_count": 23,
   "metadata": {
    "colab": {},
    "colab_type": "code",
    "id": "M1ayph2urCz0"
   },
   "outputs": [],
   "source": [
    "# Creat a list could affect revenue\n",
    "revenueFactors = ['budget_adj', 'popularity', 'runtime', 'vote_count']"
   ]
  },
  {
   "cell_type": "code",
   "execution_count": 24,
   "metadata": {
    "colab": {
     "base_uri": "https://localhost:8080/",
     "height": 85
    },
    "colab_type": "code",
    "id": "vCsqcEb3rCz3",
    "outputId": "9b2818a2-b0b0-4040-fa47-940b59ef16c2",
    "scrolled": true
   },
   "outputs": [
    {
     "name": "stdout",
     "output_type": "stream",
     "text": [
      "budget_adj: 0.637662\n",
      "popularity: 0.604702\n",
      "runtime: 0.203395\n",
      "vote_count: 0.711002\n"
     ]
    }
   ],
   "source": [
    "# check how the factors are correlated with revenue\n",
    "for f in revenueFactors:\n",
    "    related = df['revenue_adj'].corr(df[f])\n",
    "    print(\"%s: %f\" % (f,related))"
   ]
  },
  {
   "cell_type": "code",
   "execution_count": 25,
   "metadata": {
    "colab": {
     "base_uri": "https://localhost:8080/",
     "height": 317
    },
    "colab_type": "code",
    "id": "7xddl8Cl_svk",
    "outputId": "240829e3-c616-42e9-e10c-5261644e7ced"
   },
   "outputs": [
    {
     "data": {
      "text/plain": [
       "(array([0.5, 1.5, 2.5, 3.5, 4.5]), <a list of 5 Text xticklabel objects>)"
      ]
     },
     "execution_count": 25,
     "metadata": {},
     "output_type": "execute_result"
    },
    {
     "data": {
      "image/png": "[encoded data removed]",
      "text/plain": [
       "<Figure size 432x288 with 2 Axes>"
      ]
     },
     "metadata": {
      "needs_background": "light"
     },
     "output_type": "display_data"
    }
   ],
   "source": [
    "# check how the factors are correlated with each other\n",
    "movie_stats = ['popularity', 'budget_adj', 'vote_count', 'revenue_adj', 'runtime']\n",
    "sns.heatmap(df[movie_stats].corr(), annot = True, cmap = 'Blues', fmt = '.2f', vmin = 0)\n",
    "plt.xticks(rotation = 30)"
   ]
  },
  {
   "cell_type": "code",
   "execution_count": 26,
   "metadata": {
    "colab": {
     "base_uri": "https://localhost:8080/",
     "height": 313
    },
    "colab_type": "code",
    "id": "Z2uxABBZrCz7",
    "outputId": "5b786ad9-2a7b-491b-cc80-6b941f3ba185",
    "scrolled": true
   },
   "outputs": [
    {
     "data": {
      "text/plain": [
       "Text(0.5, 1.0, 'vote_average vs. revenue_adj')"
      ]
     },
     "execution_count": 26,
     "metadata": {},
     "output_type": "execute_result"
    },
    {
     "data": {
      "image/png": "[encoded data removed]",
      "text/plain": [
       "<Figure size 432x288 with 2 Axes>"
      ]
     },
     "metadata": {
      "needs_background": "light"
     },
     "output_type": "display_data"
    }
   ],
   "source": [
    "plt.hist2d(data=df, x='vote_average', y='revenue_adj', cmap = 'viridis_r', cmin = 0.5);\n",
    "plt.colorbar()\n",
    "\n",
    "plt.xlabel('vote_average')\n",
    "plt.ylabel('revenue_adj in Million')\n",
    "plt.title('vote_average vs. revenue_adj')"
   ]
  },
  {
   "cell_type": "code",
   "execution_count": 27,
   "metadata": {
    "colab": {
     "base_uri": "https://localhost:8080/",
     "height": 312
    },
    "colab_type": "code",
    "id": "veLpwAgyxtVm",
    "outputId": "c101bc45-cc13-4b60-babd-2628a65c0516"
   },
   "outputs": [
    {
     "data": {
      "text/plain": [
       "Text(0.5, 1.0, 'Runtime vs. Revenue')"
      ]
     },
     "execution_count": 27,
     "metadata": {},
     "output_type": "execute_result"
    },
    {
     "data": {
      "image/png": "[encoded data removed]",
      "text/plain": [
       "<Figure size 432x288 with 2 Axes>"
      ]
     },
     "metadata": {
      "needs_background": "light"
     },
     "output_type": "display_data"
    }
   ],
   "source": [
    "plt.hist2d(data=df, x='runtime', y='revenue_adj', cmap = 'viridis_r', cmin = 0.1);\n",
    "plt.colorbar()\n",
    "\n",
    "plt.xlabel('Runtime')\n",
    "plt.ylabel('Revenue in Million')\n",
    "plt.title('Runtime vs. Revenue')"
   ]
  },
  {
   "cell_type": "code",
   "execution_count": 28,
   "metadata": {
    "colab": {
     "base_uri": "https://localhost:8080/",
     "height": 308
    },
    "colab_type": "code",
    "id": "fgAbuCcIrC0C",
    "outputId": "f2b9c845-67c2-4c08-9f1e-83bdbeeb4a36",
    "scrolled": false
   },
   "outputs": [
    {
     "data": {
      "text/plain": [
       "Text(0, 0.5, 'Revenue in Million')"
      ]
     },
     "execution_count": 28,
     "metadata": {},
     "output_type": "execute_result"
    },
    {
     "data": {
      "image/png": "[encoded data removed]",
      "text/plain": [
       "<Figure size 432x288 with 1 Axes>"
      ]
     },
     "metadata": {
      "needs_background": "light"
     },
     "output_type": "display_data"
    }
   ],
   "source": [
    "#Displaying scatterplot of 'vote_count' with regression line\n",
    "sns.regplot(data = df, x = 'vote_count', y = 'revenue_adj')\n",
    "plt.ylabel('Revenue in Million')"
   ]
  },
  {
   "cell_type": "markdown",
   "metadata": {
    "colab_type": "text",
    "id": "8wPHJak-rC0F"
   },
   "source": [
    "#### Final statistics of how the selected factors relate to revenue"
   ]
  },
  {
   "cell_type": "code",
   "execution_count": 29,
   "metadata": {
    "colab": {
     "base_uri": "https://localhost:8080/",
     "height": 541
    },
    "colab_type": "code",
    "id": "2I5YtUEQrC0G",
    "outputId": "65712fa8-a27e-4877-fc3b-d42a423ffad4",
    "scrolled": true
   },
   "outputs": [
    {
     "data": {
      "text/html": [
       "<table class=\"simpletable\">\n",
       "<caption>OLS Regression Results</caption>\n",
       "<tr>\n",
       "  <th>Dep. Variable:</th>       <td>revenue_adj</td>   <th>  R-squared (uncentered):</th>       <td>   0.639</td>  \n",
       "</tr>\n",
       "<tr>\n",
       "  <th>Model:</th>                   <td>OLS</td>       <th>  Adj. R-squared (uncentered):</th>  <td>   0.639</td>  \n",
       "</tr>\n",
       "<tr>\n",
       "  <th>Method:</th>             <td>Least Squares</td>  <th>  F-statistic:       </th>           <td>   8376.</td>  \n",
       "</tr>\n",
       "<tr>\n",
       "  <th>Date:</th>             <td>Sun, 15 Mar 2020</td> <th>  Prob (F-statistic):</th>            <td>  0.00</td>   \n",
       "</tr>\n",
       "<tr>\n",
       "  <th>Time:</th>                 <td>15:17:24</td>     <th>  Log-Likelihood:    </th>          <td>-4.7113e+05</td>\n",
       "</tr>\n",
       "<tr>\n",
       "  <th>No. Observations:</th>      <td> 23628</td>      <th>  AIC:               </th>           <td>9.423e+05</td> \n",
       "</tr>\n",
       "<tr>\n",
       "  <th>Df Residuals:</th>          <td> 23623</td>      <th>  BIC:               </th>           <td>9.423e+05</td> \n",
       "</tr>\n",
       "<tr>\n",
       "  <th>Df Model:</th>              <td>     5</td>      <th>                     </th>               <td> </td>     \n",
       "</tr>\n",
       "<tr>\n",
       "  <th>Covariance Type:</th>      <td>nonrobust</td>    <th>                     </th>               <td> </td>     \n",
       "</tr>\n",
       "</table>\n",
       "<table class=\"simpletable\">\n",
       "<tr>\n",
       "        <td></td>          <th>coef</th>     <th>std err</th>      <th>t</th>      <th>P>|t|</th>  <th>[0.025</th>    <th>0.975]</th>  \n",
       "</tr>\n",
       "<tr>\n",
       "  <th>budget_adj</th>   <td>    1.4041</td> <td>    0.023</td> <td>   61.458</td> <td> 0.000</td> <td>    1.359</td> <td>    1.449</td>\n",
       "</tr>\n",
       "<tr>\n",
       "  <th>popularity</th>   <td> 1.135e+07</td> <td>    1e+06</td> <td>   11.292</td> <td> 0.000</td> <td> 9.38e+06</td> <td> 1.33e+07</td>\n",
       "</tr>\n",
       "<tr>\n",
       "  <th>vote_count</th>   <td> 1.148e+05</td> <td> 1866.648</td> <td>   61.519</td> <td> 0.000</td> <td> 1.11e+05</td> <td> 1.18e+05</td>\n",
       "</tr>\n",
       "<tr>\n",
       "  <th>runtime</th>      <td> -871.5143</td> <td> 2.49e+04</td> <td>   -0.035</td> <td> 0.972</td> <td>-4.97e+04</td> <td>  4.8e+04</td>\n",
       "</tr>\n",
       "<tr>\n",
       "  <th>vote_average</th> <td>-6.346e+05</td> <td> 4.38e+05</td> <td>   -1.448</td> <td> 0.147</td> <td>-1.49e+06</td> <td> 2.24e+05</td>\n",
       "</tr>\n",
       "</table>\n",
       "<table class=\"simpletable\">\n",
       "<tr>\n",
       "  <th>Omnibus:</th>       <td>26976.125</td> <th>  Durbin-Watson:     </th>  <td>   0.553</td>  \n",
       "</tr>\n",
       "<tr>\n",
       "  <th>Prob(Omnibus):</th>  <td> 0.000</td>   <th>  Jarque-Bera (JB):  </th> <td>5679833.186</td>\n",
       "</tr>\n",
       "<tr>\n",
       "  <th>Skew:</th>           <td> 5.686</td>   <th>  Prob(JB):          </th>  <td>    0.00</td>  \n",
       "</tr>\n",
       "<tr>\n",
       "  <th>Kurtosis:</th>       <td>78.099</td>   <th>  Cond. No.          </th>  <td>6.47e+07</td>  \n",
       "</tr>\n",
       "</table><br/><br/>Warnings:<br/>[1] Standard Errors assume that the covariance matrix of the errors is correctly specified.<br/>[2] The condition number is large, 6.47e+07. This might indicate that there are<br/>strong multicollinearity or other numerical problems."
      ],
      "text/plain": [
       "<class 'statsmodels.iolib.summary.Summary'>\n",
       "\"\"\"\n",
       "                                 OLS Regression Results                                \n",
       "=======================================================================================\n",
       "Dep. Variable:            revenue_adj   R-squared (uncentered):                   0.639\n",
       "Model:                            OLS   Adj. R-squared (uncentered):              0.639\n",
       "Method:                 Least Squares   F-statistic:                              8376.\n",
       "Date:                Sun, 15 Mar 2020   Prob (F-statistic):                        0.00\n",
       "Time:                        15:17:24   Log-Likelihood:                     -4.7113e+05\n",
       "No. Observations:               23628   AIC:                                  9.423e+05\n",
       "Df Residuals:                   23623   BIC:                                  9.423e+05\n",
       "Df Model:                           5                                                  \n",
       "Covariance Type:            nonrobust                                                  \n",
       "================================================================================\n",
       "                   coef    std err          t      P>|t|      [0.025      0.975]\n",
       "--------------------------------------------------------------------------------\n",
       "budget_adj       1.4041      0.023     61.458      0.000       1.359       1.449\n",
       "popularity    1.135e+07      1e+06     11.292      0.000    9.38e+06    1.33e+07\n",
       "vote_count    1.148e+05   1866.648     61.519      0.000    1.11e+05    1.18e+05\n",
       "runtime       -871.5143   2.49e+04     -0.035      0.972   -4.97e+04     4.8e+04\n",
       "vote_average -6.346e+05   4.38e+05     -1.448      0.147   -1.49e+06    2.24e+05\n",
       "==============================================================================\n",
       "Omnibus:                    26976.125   Durbin-Watson:                   0.553\n",
       "Prob(Omnibus):                  0.000   Jarque-Bera (JB):          5679833.186\n",
       "Skew:                           5.686   Prob(JB):                         0.00\n",
       "Kurtosis:                      78.099   Cond. No.                     6.47e+07\n",
       "==============================================================================\n",
       "\n",
       "Warnings:\n",
       "[1] Standard Errors assume that the covariance matrix of the errors is correctly specified.\n",
       "[2] The condition number is large, 6.47e+07. This might indicate that there are\n",
       "strong multicollinearity or other numerical problems.\n",
       "\"\"\""
      ]
     },
     "execution_count": 29,
     "metadata": {},
     "output_type": "execute_result"
    }
   ],
   "source": [
    "df['intercept'] = 1\n",
    "\n",
    "lm = sm.OLS(df['revenue_adj'], df[['budget_adj', 'popularity', 'vote_count', 'runtime', 'vote_average']])\n",
    "results = lm.fit()\n",
    "results.summary()"
   ]
  },
  {
   "cell_type": "markdown",
   "metadata": {
    "colab_type": "text",
    "id": "xYEAR7avrC0J"
   },
   "source": [
    "### Conclusions\n",
    "### Finally, based on the analysis and visualizations above, we can draw our conclusion that the revenue of movies from the dataset is highly correlated to budget and popularity, but not so much to runtime. Vote_count has positive correlation with profitability as well.\n",
    "### Due to the limitation of the sample size of the dataset, we cannot say this is fully represented the situation of the population. Since some of the varibles are categorical ones, so only descriptive statistics are implemented but not inferential statistics."
   ]
  },
  {
   "cell_type": "code",
   "execution_count": 0,
   "metadata": {
    "colab": {},
    "colab_type": "code",
    "id": "zq02aK1MCzCu"
   },
   "outputs": [],
   "source": []
  }
 ],
 "metadata": {
  "colab": {
   "name": "movie_analysis.ipynb",
   "provenance": []
  },
  "kernelspec": {
   "display_name": "Python 3",
   "language": "python",
   "name": "python3"
  },
  "language_info": {
   "codemirror_mode": {
    "name": "ipython",
    "version": 3
   },
   "file_extension": ".py",
   "mimetype": "text/x-python",
   "name": "python",
   "nbconvert_exporter": "python",
   "pygments_lexer": "ipython3",
   "version": "3.7.6"
  }
 },
 "nbformat": 4,
 "nbformat_minor": 1
}
